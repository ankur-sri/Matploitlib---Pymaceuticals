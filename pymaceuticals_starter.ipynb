{
 "cells": [
  {
   "cell_type": "markdown",
   "metadata": {},
   "source": [
    "## Observations and Insights "
   ]
  },
  {
   "cell_type": "markdown",
   "metadata": {},
   "source": []
  },
  {
   "cell_type": "code",
   "execution_count": 1,
   "metadata": {},
   "outputs": [
    {
     "data": {
      "text/html": [
       "<div>\n",
       "<style scoped>\n",
       "    .dataframe tbody tr th:only-of-type {\n",
       "        vertical-align: middle;\n",
       "    }\n",
       "\n",
       "    .dataframe tbody tr th {\n",
       "        vertical-align: top;\n",
       "    }\n",
       "\n",
       "    .dataframe thead th {\n",
       "        text-align: right;\n",
       "    }\n",
       "</style>\n",
       "<table border=\"1\" class=\"dataframe\">\n",
       "  <thead>\n",
       "    <tr style=\"text-align: right;\">\n",
       "      <th></th>\n",
       "      <th>Mouse ID</th>\n",
       "      <th>Drug Regimen</th>\n",
       "      <th>Sex</th>\n",
       "      <th>Age_months</th>\n",
       "      <th>Weight (g)</th>\n",
       "      <th>Timepoint</th>\n",
       "      <th>Tumor Volume (mm3)</th>\n",
       "      <th>Metastatic Sites</th>\n",
       "    </tr>\n",
       "  </thead>\n",
       "  <tbody>\n",
       "    <tr>\n",
       "      <th>0</th>\n",
       "      <td>k403</td>\n",
       "      <td>Ramicane</td>\n",
       "      <td>Male</td>\n",
       "      <td>21</td>\n",
       "      <td>16</td>\n",
       "      <td>0</td>\n",
       "      <td>45.000000</td>\n",
       "      <td>0</td>\n",
       "    </tr>\n",
       "    <tr>\n",
       "      <th>1</th>\n",
       "      <td>k403</td>\n",
       "      <td>Ramicane</td>\n",
       "      <td>Male</td>\n",
       "      <td>21</td>\n",
       "      <td>16</td>\n",
       "      <td>5</td>\n",
       "      <td>38.825898</td>\n",
       "      <td>0</td>\n",
       "    </tr>\n",
       "    <tr>\n",
       "      <th>2</th>\n",
       "      <td>k403</td>\n",
       "      <td>Ramicane</td>\n",
       "      <td>Male</td>\n",
       "      <td>21</td>\n",
       "      <td>16</td>\n",
       "      <td>10</td>\n",
       "      <td>35.014271</td>\n",
       "      <td>1</td>\n",
       "    </tr>\n",
       "    <tr>\n",
       "      <th>3</th>\n",
       "      <td>k403</td>\n",
       "      <td>Ramicane</td>\n",
       "      <td>Male</td>\n",
       "      <td>21</td>\n",
       "      <td>16</td>\n",
       "      <td>15</td>\n",
       "      <td>34.223992</td>\n",
       "      <td>1</td>\n",
       "    </tr>\n",
       "    <tr>\n",
       "      <th>4</th>\n",
       "      <td>k403</td>\n",
       "      <td>Ramicane</td>\n",
       "      <td>Male</td>\n",
       "      <td>21</td>\n",
       "      <td>16</td>\n",
       "      <td>20</td>\n",
       "      <td>32.997729</td>\n",
       "      <td>1</td>\n",
       "    </tr>\n",
       "  </tbody>\n",
       "</table>\n",
       "</div>"
      ],
      "text/plain": [
       "  Mouse ID Drug Regimen   Sex  Age_months  Weight (g)  Timepoint  \\\n",
       "0     k403     Ramicane  Male          21          16          0   \n",
       "1     k403     Ramicane  Male          21          16          5   \n",
       "2     k403     Ramicane  Male          21          16         10   \n",
       "3     k403     Ramicane  Male          21          16         15   \n",
       "4     k403     Ramicane  Male          21          16         20   \n",
       "\n",
       "   Tumor Volume (mm3)  Metastatic Sites  \n",
       "0           45.000000                 0  \n",
       "1           38.825898                 0  \n",
       "2           35.014271                 1  \n",
       "3           34.223992                 1  \n",
       "4           32.997729                 1  "
      ]
     },
     "execution_count": 1,
     "metadata": {},
     "output_type": "execute_result"
    }
   ],
   "source": [
    "# Dependencies and Setup\n",
    "import pandas as pd\n",
    "import scipy.stats as st\n",
    "\n",
    "# Study data files\n",
    "mouse_metadata_path = \"data/Mouse_metadata.csv\"\n",
    "study_results_path = \"data/Study_results.csv\"\n",
    "\n",
    "# Read the mouse data and the study results\n",
    "mouse_metadata = pd.read_csv(mouse_metadata_path)\n",
    "study_results = pd.read_csv(study_results_path)\n",
    "\n",
    "# Combine the data into a single dataset\n",
    "merged_data_table = pd.merge(mouse_metadata, study_results, on=\"Mouse ID\", how=\"left\")\n",
    "merged_data_table.head()"
   ]
  },
  {
   "cell_type": "code",
   "execution_count": 2,
   "metadata": {},
   "outputs": [
    {
     "data": {
      "text/html": [
       "<div>\n",
       "<style scoped>\n",
       "    .dataframe tbody tr th:only-of-type {\n",
       "        vertical-align: middle;\n",
       "    }\n",
       "\n",
       "    .dataframe tbody tr th {\n",
       "        vertical-align: top;\n",
       "    }\n",
       "\n",
       "    .dataframe thead th {\n",
       "        text-align: right;\n",
       "    }\n",
       "</style>\n",
       "<table border=\"1\" class=\"dataframe\">\n",
       "  <thead>\n",
       "    <tr style=\"text-align: right;\">\n",
       "      <th></th>\n",
       "      <th>Number of Mice</th>\n",
       "    </tr>\n",
       "  </thead>\n",
       "  <tbody>\n",
       "    <tr>\n",
       "      <th>0</th>\n",
       "      <td>1893</td>\n",
       "    </tr>\n",
       "  </tbody>\n",
       "</table>\n",
       "</div>"
      ],
      "text/plain": [
       "   Number of Mice\n",
       "0            1893"
      ]
     },
     "execution_count": 2,
     "metadata": {},
     "output_type": "execute_result"
    }
   ],
   "source": [
    "# Checking the number of mice in the DataFrame.\n",
    "check = merged_data_table.dropna(how='any')\n",
    "#check.count()\n",
    "\n",
    "#since the numbers match in every column, we can be sure that each column has an assigned value. \n",
    "#Considering \"Mouse ID\" as the count of number of mice\n",
    "\n",
    "\n",
    "mice_count = len(merged_data_table[\"Mouse ID\"])\n",
    "mice_count_df = pd.DataFrame({\"Number of Mice\":[mice_count]})\n",
    "mice_count_df"
   ]
  },
  {
   "cell_type": "code",
   "execution_count": 3,
   "metadata": {
    "scrolled": true
   },
   "outputs": [
    {
     "data": {
      "text/html": [
       "<div>\n",
       "<style scoped>\n",
       "    .dataframe tbody tr th:only-of-type {\n",
       "        vertical-align: middle;\n",
       "    }\n",
       "\n",
       "    .dataframe tbody tr th {\n",
       "        vertical-align: top;\n",
       "    }\n",
       "\n",
       "    .dataframe thead th {\n",
       "        text-align: right;\n",
       "    }\n",
       "</style>\n",
       "<table border=\"1\" class=\"dataframe\">\n",
       "  <thead>\n",
       "    <tr style=\"text-align: right;\">\n",
       "      <th></th>\n",
       "      <th>Duplicate Mice ID</th>\n",
       "    </tr>\n",
       "  </thead>\n",
       "  <tbody>\n",
       "    <tr>\n",
       "      <th>0</th>\n",
       "      <td>[g989]</td>\n",
       "    </tr>\n",
       "  </tbody>\n",
       "</table>\n",
       "</div>"
      ],
      "text/plain": [
       "  Duplicate Mice ID\n",
       "0            [g989]"
      ]
     },
     "execution_count": 3,
     "metadata": {},
     "output_type": "execute_result"
    }
   ],
   "source": [
    "# Getting the duplicate mice by ID number that shows up for Mouse ID and Timepoint.\n",
    "\n",
    "duplicate_mice_IdAndTime = merged_data_table.loc[merged_data_table.duplicated(subset=['Mouse ID', 'Timepoint']),'Mouse ID'].unique()\n",
    "\n",
    "duplicate_mice_IdAndTime_df = pd.DataFrame({\"Duplicate Mice ID\" : [duplicate_mice_IdAndTime]})\n",
    "\n",
    "duplicate_mice_IdAndTime_df\n",
    "\n",
    "\n",
    "\n"
   ]
  },
  {
   "cell_type": "code",
   "execution_count": 4,
   "metadata": {},
   "outputs": [
    {
     "data": {
      "text/html": [
       "<div>\n",
       "<style scoped>\n",
       "    .dataframe tbody tr th:only-of-type {\n",
       "        vertical-align: middle;\n",
       "    }\n",
       "\n",
       "    .dataframe tbody tr th {\n",
       "        vertical-align: top;\n",
       "    }\n",
       "\n",
       "    .dataframe thead th {\n",
       "        text-align: right;\n",
       "    }\n",
       "</style>\n",
       "<table border=\"1\" class=\"dataframe\">\n",
       "  <thead>\n",
       "    <tr style=\"text-align: right;\">\n",
       "      <th></th>\n",
       "      <th>Mouse ID</th>\n",
       "      <th>Drug Regimen</th>\n",
       "      <th>Sex</th>\n",
       "      <th>Age_months</th>\n",
       "      <th>Weight (g)</th>\n",
       "      <th>Timepoint</th>\n",
       "      <th>Tumor Volume (mm3)</th>\n",
       "      <th>Metastatic Sites</th>\n",
       "    </tr>\n",
       "  </thead>\n",
       "  <tbody>\n",
       "    <tr>\n",
       "      <th>908</th>\n",
       "      <td>g989</td>\n",
       "      <td>Propriva</td>\n",
       "      <td>Female</td>\n",
       "      <td>21</td>\n",
       "      <td>26</td>\n",
       "      <td>0</td>\n",
       "      <td>45.000000</td>\n",
       "      <td>0</td>\n",
       "    </tr>\n",
       "    <tr>\n",
       "      <th>909</th>\n",
       "      <td>g989</td>\n",
       "      <td>Propriva</td>\n",
       "      <td>Female</td>\n",
       "      <td>21</td>\n",
       "      <td>26</td>\n",
       "      <td>0</td>\n",
       "      <td>45.000000</td>\n",
       "      <td>0</td>\n",
       "    </tr>\n",
       "    <tr>\n",
       "      <th>910</th>\n",
       "      <td>g989</td>\n",
       "      <td>Propriva</td>\n",
       "      <td>Female</td>\n",
       "      <td>21</td>\n",
       "      <td>26</td>\n",
       "      <td>5</td>\n",
       "      <td>48.786801</td>\n",
       "      <td>0</td>\n",
       "    </tr>\n",
       "    <tr>\n",
       "      <th>911</th>\n",
       "      <td>g989</td>\n",
       "      <td>Propriva</td>\n",
       "      <td>Female</td>\n",
       "      <td>21</td>\n",
       "      <td>26</td>\n",
       "      <td>5</td>\n",
       "      <td>47.570392</td>\n",
       "      <td>0</td>\n",
       "    </tr>\n",
       "    <tr>\n",
       "      <th>912</th>\n",
       "      <td>g989</td>\n",
       "      <td>Propriva</td>\n",
       "      <td>Female</td>\n",
       "      <td>21</td>\n",
       "      <td>26</td>\n",
       "      <td>10</td>\n",
       "      <td>51.745156</td>\n",
       "      <td>0</td>\n",
       "    </tr>\n",
       "    <tr>\n",
       "      <th>913</th>\n",
       "      <td>g989</td>\n",
       "      <td>Propriva</td>\n",
       "      <td>Female</td>\n",
       "      <td>21</td>\n",
       "      <td>26</td>\n",
       "      <td>10</td>\n",
       "      <td>49.880528</td>\n",
       "      <td>0</td>\n",
       "    </tr>\n",
       "    <tr>\n",
       "      <th>914</th>\n",
       "      <td>g989</td>\n",
       "      <td>Propriva</td>\n",
       "      <td>Female</td>\n",
       "      <td>21</td>\n",
       "      <td>26</td>\n",
       "      <td>15</td>\n",
       "      <td>51.325852</td>\n",
       "      <td>1</td>\n",
       "    </tr>\n",
       "    <tr>\n",
       "      <th>915</th>\n",
       "      <td>g989</td>\n",
       "      <td>Propriva</td>\n",
       "      <td>Female</td>\n",
       "      <td>21</td>\n",
       "      <td>26</td>\n",
       "      <td>15</td>\n",
       "      <td>53.442020</td>\n",
       "      <td>0</td>\n",
       "    </tr>\n",
       "    <tr>\n",
       "      <th>916</th>\n",
       "      <td>g989</td>\n",
       "      <td>Propriva</td>\n",
       "      <td>Female</td>\n",
       "      <td>21</td>\n",
       "      <td>26</td>\n",
       "      <td>20</td>\n",
       "      <td>55.326122</td>\n",
       "      <td>1</td>\n",
       "    </tr>\n",
       "    <tr>\n",
       "      <th>917</th>\n",
       "      <td>g989</td>\n",
       "      <td>Propriva</td>\n",
       "      <td>Female</td>\n",
       "      <td>21</td>\n",
       "      <td>26</td>\n",
       "      <td>20</td>\n",
       "      <td>54.657650</td>\n",
       "      <td>1</td>\n",
       "    </tr>\n",
       "    <tr>\n",
       "      <th>918</th>\n",
       "      <td>g989</td>\n",
       "      <td>Propriva</td>\n",
       "      <td>Female</td>\n",
       "      <td>21</td>\n",
       "      <td>26</td>\n",
       "      <td>25</td>\n",
       "      <td>56.045564</td>\n",
       "      <td>1</td>\n",
       "    </tr>\n",
       "    <tr>\n",
       "      <th>919</th>\n",
       "      <td>g989</td>\n",
       "      <td>Propriva</td>\n",
       "      <td>Female</td>\n",
       "      <td>21</td>\n",
       "      <td>26</td>\n",
       "      <td>30</td>\n",
       "      <td>59.082294</td>\n",
       "      <td>1</td>\n",
       "    </tr>\n",
       "    <tr>\n",
       "      <th>920</th>\n",
       "      <td>g989</td>\n",
       "      <td>Propriva</td>\n",
       "      <td>Female</td>\n",
       "      <td>21</td>\n",
       "      <td>26</td>\n",
       "      <td>35</td>\n",
       "      <td>62.570880</td>\n",
       "      <td>2</td>\n",
       "    </tr>\n",
       "  </tbody>\n",
       "</table>\n",
       "</div>"
      ],
      "text/plain": [
       "    Mouse ID Drug Regimen     Sex  Age_months  Weight (g)  Timepoint  \\\n",
       "908     g989     Propriva  Female          21          26          0   \n",
       "909     g989     Propriva  Female          21          26          0   \n",
       "910     g989     Propriva  Female          21          26          5   \n",
       "911     g989     Propriva  Female          21          26          5   \n",
       "912     g989     Propriva  Female          21          26         10   \n",
       "913     g989     Propriva  Female          21          26         10   \n",
       "914     g989     Propriva  Female          21          26         15   \n",
       "915     g989     Propriva  Female          21          26         15   \n",
       "916     g989     Propriva  Female          21          26         20   \n",
       "917     g989     Propriva  Female          21          26         20   \n",
       "918     g989     Propriva  Female          21          26         25   \n",
       "919     g989     Propriva  Female          21          26         30   \n",
       "920     g989     Propriva  Female          21          26         35   \n",
       "\n",
       "     Tumor Volume (mm3)  Metastatic Sites  \n",
       "908           45.000000                 0  \n",
       "909           45.000000                 0  \n",
       "910           48.786801                 0  \n",
       "911           47.570392                 0  \n",
       "912           51.745156                 0  \n",
       "913           49.880528                 0  \n",
       "914           51.325852                 1  \n",
       "915           53.442020                 0  \n",
       "916           55.326122                 1  \n",
       "917           54.657650                 1  \n",
       "918           56.045564                 1  \n",
       "919           59.082294                 1  \n",
       "920           62.570880                 2  "
      ]
     },
     "execution_count": 4,
     "metadata": {},
     "output_type": "execute_result"
    }
   ],
   "source": [
    "# Optional: Get all the data for the duplicate mouse ID. \n",
    "\n",
    "duplicate_mice_Id_data = merged_data_table[merged_data_table['Mouse ID']=='g989']\n",
    "duplicate_mice_Id_data"
   ]
  },
  {
   "cell_type": "code",
   "execution_count": 5,
   "metadata": {
    "scrolled": true
   },
   "outputs": [
    {
     "data": {
      "text/html": [
       "<div>\n",
       "<style scoped>\n",
       "    .dataframe tbody tr th:only-of-type {\n",
       "        vertical-align: middle;\n",
       "    }\n",
       "\n",
       "    .dataframe tbody tr th {\n",
       "        vertical-align: top;\n",
       "    }\n",
       "\n",
       "    .dataframe thead th {\n",
       "        text-align: right;\n",
       "    }\n",
       "</style>\n",
       "<table border=\"1\" class=\"dataframe\">\n",
       "  <thead>\n",
       "    <tr style=\"text-align: right;\">\n",
       "      <th></th>\n",
       "      <th>index</th>\n",
       "      <th>Mouse ID</th>\n",
       "      <th>Drug Regimen</th>\n",
       "      <th>Sex</th>\n",
       "      <th>Age_months</th>\n",
       "      <th>Weight (g)</th>\n",
       "      <th>Timepoint</th>\n",
       "      <th>Tumor Volume (mm3)</th>\n",
       "      <th>Metastatic Sites</th>\n",
       "    </tr>\n",
       "  </thead>\n",
       "  <tbody>\n",
       "    <tr>\n",
       "      <th>0</th>\n",
       "      <td>9</td>\n",
       "      <td>k403</td>\n",
       "      <td>Ramicane</td>\n",
       "      <td>Male</td>\n",
       "      <td>21</td>\n",
       "      <td>16</td>\n",
       "      <td>45</td>\n",
       "      <td>22.050126</td>\n",
       "      <td>1</td>\n",
       "    </tr>\n",
       "    <tr>\n",
       "      <th>1</th>\n",
       "      <td>19</td>\n",
       "      <td>s185</td>\n",
       "      <td>Capomulin</td>\n",
       "      <td>Female</td>\n",
       "      <td>3</td>\n",
       "      <td>17</td>\n",
       "      <td>45</td>\n",
       "      <td>23.343598</td>\n",
       "      <td>1</td>\n",
       "    </tr>\n",
       "    <tr>\n",
       "      <th>2</th>\n",
       "      <td>29</td>\n",
       "      <td>x401</td>\n",
       "      <td>Capomulin</td>\n",
       "      <td>Female</td>\n",
       "      <td>16</td>\n",
       "      <td>15</td>\n",
       "      <td>45</td>\n",
       "      <td>28.484033</td>\n",
       "      <td>0</td>\n",
       "    </tr>\n",
       "    <tr>\n",
       "      <th>3</th>\n",
       "      <td>39</td>\n",
       "      <td>m601</td>\n",
       "      <td>Capomulin</td>\n",
       "      <td>Male</td>\n",
       "      <td>22</td>\n",
       "      <td>17</td>\n",
       "      <td>45</td>\n",
       "      <td>28.430964</td>\n",
       "      <td>1</td>\n",
       "    </tr>\n",
       "    <tr>\n",
       "      <th>4</th>\n",
       "      <td>49</td>\n",
       "      <td>g791</td>\n",
       "      <td>Ramicane</td>\n",
       "      <td>Male</td>\n",
       "      <td>11</td>\n",
       "      <td>16</td>\n",
       "      <td>45</td>\n",
       "      <td>29.128472</td>\n",
       "      <td>1</td>\n",
       "    </tr>\n",
       "  </tbody>\n",
       "</table>\n",
       "</div>"
      ],
      "text/plain": [
       "   index Mouse ID Drug Regimen     Sex  Age_months  Weight (g)  Timepoint  \\\n",
       "0      9     k403     Ramicane    Male          21          16         45   \n",
       "1     19     s185    Capomulin  Female           3          17         45   \n",
       "2     29     x401    Capomulin  Female          16          15         45   \n",
       "3     39     m601    Capomulin    Male          22          17         45   \n",
       "4     49     g791     Ramicane    Male          11          16         45   \n",
       "\n",
       "   Tumor Volume (mm3)  Metastatic Sites  \n",
       "0           22.050126                 1  \n",
       "1           23.343598                 1  \n",
       "2           28.484033                 0  \n",
       "3           28.430964                 1  \n",
       "4           29.128472                 1  "
      ]
     },
     "execution_count": 5,
     "metadata": {},
     "output_type": "execute_result"
    }
   ],
   "source": [
    "# Create a clean DataFrame by dropping the duplicate mouse by its ID.\n",
    "\n",
    "#clean_mouse_metadata_df = mouse_metadata[mouse_metadata['Mouse ID'].isin(duplicate_mice_IdAndTime)==False] \n",
    "#clean_study_results_df = study_results[study_results['Mouse ID'].isin(duplicate_mice_IdAndTime)==False]\n",
    "#clean_data_df = pd.merge(clean_mouse_metadata_df, clean_study_results_df, on=\"Mouse ID\", how=\"left\")\n",
    "#clean_data_df\n",
    "\n",
    "# Combine the data into a single dataset\n",
    "merged_data_table_df = pd.DataFrame(merged_data_table)\n",
    "merged_data_table_df.sort_values(by=['Mouse ID','Timepoint'])\n",
    "merged_data_table_df.drop_duplicates(subset='Mouse ID', keep='last', inplace = True)\n",
    "\n",
    "#merged_data_table\n",
    "\n",
    "clean_data_df = pd.DataFrame((merged_data_table_df).reset_index())\n",
    "clean_data_df.head()"
   ]
  },
  {
   "cell_type": "code",
   "execution_count": 6,
   "metadata": {},
   "outputs": [
    {
     "data": {
      "text/plain": [
       "249"
      ]
     },
     "execution_count": 6,
     "metadata": {},
     "output_type": "execute_result"
    }
   ],
   "source": [
    "# Checking the number of mice in the clean DataFrame.\n",
    "mice_count_clean_df = len(clean_data_df['Mouse ID'])\n",
    "mice_count_clean_df"
   ]
  },
  {
   "cell_type": "markdown",
   "metadata": {},
   "source": [
    "## Summary Statistics"
   ]
  },
  {
   "cell_type": "code",
   "execution_count": 7,
   "metadata": {},
   "outputs": [
    {
     "data": {
      "text/html": [
       "<div>\n",
       "<style scoped>\n",
       "    .dataframe tbody tr th:only-of-type {\n",
       "        vertical-align: middle;\n",
       "    }\n",
       "\n",
       "    .dataframe tbody tr th {\n",
       "        vertical-align: top;\n",
       "    }\n",
       "\n",
       "    .dataframe thead th {\n",
       "        text-align: right;\n",
       "    }\n",
       "</style>\n",
       "<table border=\"1\" class=\"dataframe\">\n",
       "  <thead>\n",
       "    <tr style=\"text-align: right;\">\n",
       "      <th></th>\n",
       "      <th>Mean</th>\n",
       "      <th>Median</th>\n",
       "      <th>Variance</th>\n",
       "      <th>Standard Deviation</th>\n",
       "      <th>SEM</th>\n",
       "    </tr>\n",
       "    <tr>\n",
       "      <th>Drug Regimen</th>\n",
       "      <th></th>\n",
       "      <th></th>\n",
       "      <th></th>\n",
       "      <th></th>\n",
       "      <th></th>\n",
       "    </tr>\n",
       "  </thead>\n",
       "  <tbody>\n",
       "    <tr>\n",
       "      <th>Capomulin</th>\n",
       "      <td>40.675741</td>\n",
       "      <td>41.557809</td>\n",
       "      <td>24.947764</td>\n",
       "      <td>4.994774</td>\n",
       "      <td>0.329346</td>\n",
       "    </tr>\n",
       "    <tr>\n",
       "      <th>Ceftamin</th>\n",
       "      <td>52.591172</td>\n",
       "      <td>51.776157</td>\n",
       "      <td>39.290177</td>\n",
       "      <td>6.268188</td>\n",
       "      <td>0.469821</td>\n",
       "    </tr>\n",
       "    <tr>\n",
       "      <th>Infubinol</th>\n",
       "      <td>52.884795</td>\n",
       "      <td>51.820584</td>\n",
       "      <td>43.128684</td>\n",
       "      <td>6.567243</td>\n",
       "      <td>0.492236</td>\n",
       "    </tr>\n",
       "    <tr>\n",
       "      <th>Ketapril</th>\n",
       "      <td>55.235638</td>\n",
       "      <td>53.698743</td>\n",
       "      <td>68.553577</td>\n",
       "      <td>8.279709</td>\n",
       "      <td>0.603860</td>\n",
       "    </tr>\n",
       "    <tr>\n",
       "      <th>Naftisol</th>\n",
       "      <td>54.331565</td>\n",
       "      <td>52.509285</td>\n",
       "      <td>66.173479</td>\n",
       "      <td>8.134708</td>\n",
       "      <td>0.596466</td>\n",
       "    </tr>\n",
       "    <tr>\n",
       "      <th>Placebo</th>\n",
       "      <td>54.033581</td>\n",
       "      <td>52.288934</td>\n",
       "      <td>61.168083</td>\n",
       "      <td>7.821003</td>\n",
       "      <td>0.581331</td>\n",
       "    </tr>\n",
       "    <tr>\n",
       "      <th>Propriva</th>\n",
       "      <td>52.322552</td>\n",
       "      <td>50.854632</td>\n",
       "      <td>42.351070</td>\n",
       "      <td>6.507770</td>\n",
       "      <td>0.512884</td>\n",
       "    </tr>\n",
       "    <tr>\n",
       "      <th>Ramicane</th>\n",
       "      <td>40.216745</td>\n",
       "      <td>40.673236</td>\n",
       "      <td>23.486704</td>\n",
       "      <td>4.846308</td>\n",
       "      <td>0.320955</td>\n",
       "    </tr>\n",
       "    <tr>\n",
       "      <th>Stelasyn</th>\n",
       "      <td>54.233149</td>\n",
       "      <td>52.431737</td>\n",
       "      <td>59.450562</td>\n",
       "      <td>7.710419</td>\n",
       "      <td>0.573111</td>\n",
       "    </tr>\n",
       "    <tr>\n",
       "      <th>Zoniferol</th>\n",
       "      <td>53.236507</td>\n",
       "      <td>51.818479</td>\n",
       "      <td>48.533355</td>\n",
       "      <td>6.966589</td>\n",
       "      <td>0.516398</td>\n",
       "    </tr>\n",
       "  </tbody>\n",
       "</table>\n",
       "</div>"
      ],
      "text/plain": [
       "                   Mean     Median   Variance  Standard Deviation       SEM\n",
       "Drug Regimen                                                               \n",
       "Capomulin     40.675741  41.557809  24.947764            4.994774  0.329346\n",
       "Ceftamin      52.591172  51.776157  39.290177            6.268188  0.469821\n",
       "Infubinol     52.884795  51.820584  43.128684            6.567243  0.492236\n",
       "Ketapril      55.235638  53.698743  68.553577            8.279709  0.603860\n",
       "Naftisol      54.331565  52.509285  66.173479            8.134708  0.596466\n",
       "Placebo       54.033581  52.288934  61.168083            7.821003  0.581331\n",
       "Propriva      52.322552  50.854632  42.351070            6.507770  0.512884\n",
       "Ramicane      40.216745  40.673236  23.486704            4.846308  0.320955\n",
       "Stelasyn      54.233149  52.431737  59.450562            7.710419  0.573111\n",
       "Zoniferol     53.236507  51.818479  48.533355            6.966589  0.516398"
      ]
     },
     "execution_count": 7,
     "metadata": {},
     "output_type": "execute_result"
    }
   ],
   "source": [
    "# Generate a summary statistics table of mean, median, variance, standard deviation, and SEM of the tumor volume for each regimen\n",
    "\n",
    "mean_df = merged_data_table.groupby('Drug Regimen')['Tumor Volume (mm3)'].mean()\n",
    "median_df = merged_data_table.groupby('Drug Regimen')['Tumor Volume (mm3)'].median()\n",
    "variance_df = merged_data_table.groupby('Drug Regimen')['Tumor Volume (mm3)'].var()\n",
    "std_dev_df = merged_data_table.groupby('Drug Regimen')['Tumor Volume (mm3)'].std()\n",
    "sem_df = merged_data_table.groupby('Drug Regimen')['Tumor Volume (mm3)'].sem()\n",
    "summary_stats_df = pd.DataFrame({\"Mean\": mean_df, \"Median\": median_df,\n",
    "                                 \"Variance\": variance_df,\n",
    "                                 \"Standard Deviation\": std_dev_df,\n",
    "                                 \"SEM\": sem_df})\n",
    "summary_stats_df \n",
    "\n",
    "# This method is straighforward, creating multiple series and putting them all together at the end."
   ]
  },
  {
   "cell_type": "markdown",
   "metadata": {},
   "source": [
    "## Bar Plots"
   ]
  },
  {
   "cell_type": "code",
   "execution_count": 8,
   "metadata": {},
   "outputs": [
    {
     "data": {
      "image/png": "[encoded data removed]",
      "text/plain": [
       "<Figure size 432x288 with 1 Axes>"
      ]
     },
     "metadata": {
      "needs_background": "light"
     },
     "output_type": "display_data"
    }
   ],
   "source": [
    "# Generate a bar plot showing the number of mice per time point for each treatment throughout the course of the study using pandas. \n",
    "\n",
    "mice_timepoint_graph_df = merged_data_table.groupby(\"Drug Regimen\")[\"Mouse ID\"].count().reset_index()\n",
    "mice_timepoint_graph_df\n",
    "\n",
    "\n",
    "#mice_count_df = pd.DataFrame({'Drug Regimen':['Capomulin','Ceftamin','Infubinol','Ketapril','Naftisol','Placebo','Propriva','Ramicane','Stelasyn','Zoniferol'],\n",
    "                            #'Number of Mice':[230,178,178,188,186,181,161,228,181,182]})\n",
    "\n",
    "#ax = mice_count_df.plot.bar(x='Drug Regimen', y='Number of Mice', rot=30)\n",
    "\n",
    "datapoints_df = mice_timepoint_graph_df.rename(columns={\"Mouse ID\": \"Counts\"})\n",
    "bar_graph = datapoints_df.plot.bar(x='Drug Regimen', y='Counts', rot=50, color = 'green', title ='Count per Drug Regimen')\n"
   ]
  },
  {
   "cell_type": "code",
   "execution_count": 9,
   "metadata": {},
   "outputs": [
    {
     "data": {
      "image/png": "[encoded data removed]",
      "text/plain": [
       "<Figure size 432x288 with 1 Axes>"
      ]
     },
     "metadata": {
      "needs_background": "light"
     },
     "output_type": "display_data"
    }
   ],
   "source": [
    "# Generate a bar plot showing the number of mice per time point for each treatment throughout the course of the study using pyplot.\n",
    "import matplotlib.pyplot as plt\n",
    "\n",
    "mice_timepoint_graph_df.plot(kind='bar', x=\"Drug Regimen\", y=\"Mouse ID\", color = 'red', title ='Count per Drug Regimen', alpha=0.5, align=\"center\")\n",
    "plt.title(\"Number of mice per time point for each treatment\")\n",
    "plt.xlabel(\"Drug Regimen\")\n",
    "plt.ylabel(\"Mice Count\")\n",
    "plt.show()"
   ]
  },
  {
   "cell_type": "markdown",
   "metadata": {},
   "source": [
    "## Pie Plots"
   ]
  },
  {
   "cell_type": "code",
   "execution_count": 10,
   "metadata": {},
   "outputs": [
    {
     "data": {
      "image/png": "[encoded data removed]",
      "text/plain": [
       "<Figure size 432x288 with 1 Axes>"
      ]
     },
     "metadata": {},
     "output_type": "display_data"
    }
   ],
   "source": [
    "# Generate a pie plot showing the distribution of female versus male mice using pandas\n",
    "\n",
    "gender_counts = pd.DataFrame((clean_data_df.groupby([\"Sex\"])[\"Age_months\"].count())).reset_index()\n",
    "gender_counts\n",
    "\n",
    "gender_counts_df = gender_counts.rename(columns={\"Age_months\": \"Count\"})\n",
    "gender_counts_df\n",
    "\n",
    "pie_chart = gender_counts_df.plot.pie( y =\"Count\", labels=gender_counts_df[\"Sex\"],autopct=\"%1.1f%%\",\n",
    "                                      title =\"Gender Ratio\", startangle=60)\n"
   ]
  },
  {
   "cell_type": "code",
   "execution_count": 11,
   "metadata": {},
   "outputs": [
    {
     "data": {
      "text/plain": [
       "Text(0.5, 1.0, 'Gender Ratio')"
      ]
     },
     "execution_count": 11,
     "metadata": {},
     "output_type": "execute_result"
    },
    {
     "data": {
      "image/png": "[encoded data removed]",
      "text/plain": [
       "<Figure size 432x288 with 1 Axes>"
      ]
     },
     "metadata": {},
     "output_type": "display_data"
    }
   ],
   "source": [
    "# Generate a pie plot showing the distribution of female versus male mice using pyplot\n",
    "\n",
    "gender_ratio = (clean_data_df.groupby([\"Sex\"])[\"Age_months\"].count()).tolist()\n",
    "gender_ratio\n",
    "\n",
    "color = [\"blue\", \"magenta\"]\n",
    "gender = [\"Females\", \"Males\"]\n",
    "\n",
    "plt.pie(gender_ratio, labels=gender, colors=color,\n",
    "        autopct=\"%1.1f%%\", startangle=80, explode=(0.06,0.03))\n",
    "\n",
    "plt.title(\"Gender Ratio\")"
   ]
  },
  {
   "cell_type": "markdown",
   "metadata": {},
   "source": [
    "## Quartiles, Outliers and Boxplots"
   ]
  },
  {
   "cell_type": "code",
   "execution_count": 12,
   "metadata": {},
   "outputs": [
    {
     "data": {
      "text/html": [
       "<div>\n",
       "<style scoped>\n",
       "    .dataframe tbody tr th:only-of-type {\n",
       "        vertical-align: middle;\n",
       "    }\n",
       "\n",
       "    .dataframe tbody tr th {\n",
       "        vertical-align: top;\n",
       "    }\n",
       "\n",
       "    .dataframe thead th {\n",
       "        text-align: right;\n",
       "    }\n",
       "</style>\n",
       "<table border=\"1\" class=\"dataframe\">\n",
       "  <thead>\n",
       "    <tr style=\"text-align: right;\">\n",
       "      <th></th>\n",
       "      <th>index</th>\n",
       "      <th>Mouse ID</th>\n",
       "      <th>Drug Regimen</th>\n",
       "      <th>Sex</th>\n",
       "      <th>Age_months</th>\n",
       "      <th>Weight (g)</th>\n",
       "      <th>Timepoint</th>\n",
       "      <th>Tumor Volume (mm3)</th>\n",
       "      <th>Metastatic Sites</th>\n",
       "    </tr>\n",
       "  </thead>\n",
       "  <tbody>\n",
       "    <tr>\n",
       "      <th>31</th>\n",
       "      <td>309</td>\n",
       "      <td>b128</td>\n",
       "      <td>Capomulin</td>\n",
       "      <td>Female</td>\n",
       "      <td>9</td>\n",
       "      <td>22</td>\n",
       "      <td>45</td>\n",
       "      <td>38.982878</td>\n",
       "      <td>2</td>\n",
       "    </tr>\n",
       "    <tr>\n",
       "      <th>30</th>\n",
       "      <td>299</td>\n",
       "      <td>b742</td>\n",
       "      <td>Capomulin</td>\n",
       "      <td>Male</td>\n",
       "      <td>7</td>\n",
       "      <td>21</td>\n",
       "      <td>45</td>\n",
       "      <td>38.939633</td>\n",
       "      <td>0</td>\n",
       "    </tr>\n",
       "    <tr>\n",
       "      <th>6</th>\n",
       "      <td>64</td>\n",
       "      <td>f966</td>\n",
       "      <td>Capomulin</td>\n",
       "      <td>Male</td>\n",
       "      <td>16</td>\n",
       "      <td>17</td>\n",
       "      <td>20</td>\n",
       "      <td>30.485985</td>\n",
       "      <td>0</td>\n",
       "    </tr>\n",
       "    <tr>\n",
       "      <th>24</th>\n",
       "      <td>244</td>\n",
       "      <td>g288</td>\n",
       "      <td>Capomulin</td>\n",
       "      <td>Male</td>\n",
       "      <td>3</td>\n",
       "      <td>19</td>\n",
       "      <td>45</td>\n",
       "      <td>37.074024</td>\n",
       "      <td>1</td>\n",
       "    </tr>\n",
       "    <tr>\n",
       "      <th>37</th>\n",
       "      <td>360</td>\n",
       "      <td>g316</td>\n",
       "      <td>Capomulin</td>\n",
       "      <td>Female</td>\n",
       "      <td>22</td>\n",
       "      <td>22</td>\n",
       "      <td>45</td>\n",
       "      <td>40.159220</td>\n",
       "      <td>2</td>\n",
       "    </tr>\n",
       "  </tbody>\n",
       "</table>\n",
       "</div>"
      ],
      "text/plain": [
       "    index Mouse ID Drug Regimen     Sex  Age_months  Weight (g)  Timepoint  \\\n",
       "31    309     b128    Capomulin  Female           9          22         45   \n",
       "30    299     b742    Capomulin    Male           7          21         45   \n",
       "6      64     f966    Capomulin    Male          16          17         20   \n",
       "24    244     g288    Capomulin    Male           3          19         45   \n",
       "37    360     g316    Capomulin  Female          22          22         45   \n",
       "\n",
       "    Tumor Volume (mm3)  Metastatic Sites  \n",
       "31           38.982878                 2  \n",
       "30           38.939633                 0  \n",
       "6            30.485985                 0  \n",
       "24           37.074024                 1  \n",
       "37           40.159220                 2  "
      ]
     },
     "execution_count": 12,
     "metadata": {},
     "output_type": "execute_result"
    }
   ],
   "source": [
    "# Calculate the final tumor volume of each mouse across four of the most promising treatment regimens. Calculate the IQR and quantitatively determine if there are any potential outliers. \n",
    "\n",
    "new_df = clean_data_df.sort_values([\"Drug Regimen\", \"Mouse ID\", \"Timepoint\"], ascending=True)\n",
    "new_df.head()\n",
    "\n",
    "\n"
   ]
  },
  {
   "cell_type": "code",
   "execution_count": 13,
   "metadata": {},
   "outputs": [
    {
     "name": "stdout",
     "output_type": "stream",
     "text": [
      "0     23.343598\n",
      "1     28.430964\n",
      "2     28.484033\n",
      "3     30.485985\n",
      "4     31.023923\n",
      "5     31.896238\n",
      "6     32.377357\n",
      "7     33.329098\n",
      "8     34.455298\n",
      "9     36.041047\n",
      "10    37.074024\n",
      "11    37.311846\n",
      "12    38.125164\n",
      "13    38.753265\n",
      "14    38.846876\n",
      "15    38.939633\n",
      "16    38.982878\n",
      "17    39.952347\n",
      "18    40.159220\n",
      "19    40.658124\n",
      "20    40.728578\n",
      "21    41.483008\n",
      "22    41.581521\n",
      "23    46.539206\n",
      "24    47.685963\n",
      "Name: Tumor Volume (mm3), dtype: float64\n",
      "******************************************\n",
      " Capomulin Regimen summary\n",
      "******************************************\n",
      "Lower quartile of tumor volume is: 32.37735684\n",
      "Upper quartile of tumor volume is: 40.1592203\n",
      "Interquartile range of tumor volume is: 7.78\n",
      "Median of of tumor volume is: 38.125164399999996 \n",
      "Values below 20.707356839999996 could be outliers\n",
      "Values above 51.8292203 could be outliers\n",
      "\n",
      "******************************************\n",
      "     Capomulin Outlier Plot\n",
      "******************************************\n"
     ]
    },
    {
     "data": {
      "image/png": "[encoded data removed]",
      "text/plain": [
       "<Figure size 432x288 with 1 Axes>"
      ]
     },
     "metadata": {
      "needs_background": "light"
     },
     "output_type": "display_data"
    }
   ],
   "source": [
    "#Capomulin regimen and the quartiles\n",
    "\n",
    "\n",
    "capomulin_df = new_df[new_df['Drug Regimen']=='Capomulin']\n",
    "capomulin_df\n",
    "\n",
    "sort_capo_tumor = capomulin_df.sort_values([\"Tumor Volume (mm3)\"], ascending=True).reset_index()\n",
    "sort_capo_tumor_vol = sort_capo_tumor[\"Tumor Volume (mm3)\"]\n",
    "print(sort_capo_tumor_vol)\n",
    "\n",
    "print(\"******************************************\")\n",
    "print(\" Capomulin Regimen summary\")\n",
    "print(\"******************************************\")\n",
    "\n",
    "quartiles = sort_capo_tumor_vol.quantile([.25,.5,.75])\n",
    "lowerq = quartiles[0.25]\n",
    "upperq = quartiles[0.75]\n",
    "iqr = round((upperq - lowerq),2)\n",
    "\n",
    "print(f\"Lower quartile of tumor volume is: {lowerq}\")\n",
    "print(f\"Upper quartile of tumor volume is: {upperq}\")\n",
    "print(f\"Interquartile range of tumor volume is: {iqr}\")\n",
    "print(f\"Median of of tumor volume is: {quartiles[0.5]} \")\n",
    "\n",
    "lower_bound = lowerq - (1.5*iqr)\n",
    "upper_bound = upperq + (1.5*iqr)\n",
    "print(f\"Values below {lower_bound} could be outliers\")\n",
    "print(f\"Values above {upper_bound} could be outliers\")\n",
    "print(\"\")\n",
    "print(\"******************************************\")\n",
    "print(\"     Capomulin Outlier Plot\")\n",
    "print(\"******************************************\")\n",
    "\n",
    "#fig1, ax1 = plt.subplots()\n",
    "plt.title('Final Tumor Volume:Capomulin Regimen')\n",
    "plt.ylabel('Final Tumor Volume (mm3)')\n",
    "plt.boxplot(sort_capo_tumor_vol,showfliers=True)\n",
    "plt.show()"
   ]
  },
  {
   "cell_type": "code",
   "execution_count": 14,
   "metadata": {},
   "outputs": [
    {
     "name": "stdout",
     "output_type": "stream",
     "text": [
      "0     22.050126\n",
      "1     29.128472\n",
      "2     30.276232\n",
      "3     30.564625\n",
      "4     30.638696\n",
      "5     31.095335\n",
      "6     31.560470\n",
      "7     32.978522\n",
      "8     33.397653\n",
      "9     33.562402\n",
      "10    36.134852\n",
      "11    36.374510\n",
      "12    36.561652\n",
      "13    37.225650\n",
      "14    37.311236\n",
      "15    38.342008\n",
      "16    38.407618\n",
      "17    38.810366\n",
      "18    40.659006\n",
      "19    40.667713\n",
      "20    43.047543\n",
      "21    43.166373\n",
      "22    43.419381\n",
      "23    44.183451\n",
      "24    45.220869\n",
      "Name: Tumor Volume (mm3), dtype: float64\n",
      "******************************************\n",
      "  Ramicane Regimen summary    \n",
      "******************************************\n",
      "Lower quartile of tumor volume is: 31.56046955\n",
      "Upper quartile of tumor volume is: 40.65900627\n",
      "Interquartile range of tumor volume is: 9.1\n",
      "Median of of tumor volume is: 36.56165229 \n",
      "Values below 17.910469550000002 could be outliers\n",
      "Values above 54.30900627 could be outliers\n",
      "\n",
      "******************************************\n",
      "     Ramicane Outlier Plot\n",
      "******************************************\n"
     ]
    },
    {
     "data": {
      "image/png": "[encoded data removed]",
      "text/plain": [
       "<Figure size 432x288 with 1 Axes>"
      ]
     },
     "metadata": {
      "needs_background": "light"
     },
     "output_type": "display_data"
    }
   ],
   "source": [
    "#Ramicane regimen and the quartiles\n",
    "\n",
    "Ramicane_df = new_df[new_df['Drug Regimen']=='Ramicane']\n",
    "Ramicane_df\n",
    "\n",
    "sort_rami_tumor = Ramicane_df.sort_values([\"Tumor Volume (mm3)\"], ascending=True).reset_index()\n",
    "sort_rami_tumor_vol = sort_rami_tumor[\"Tumor Volume (mm3)\"]\n",
    "print(sort_rami_tumor_vol)\n",
    "\n",
    "print(\"******************************************\")\n",
    "print(\"  Ramicane Regimen summary    \")\n",
    "print(\"******************************************\")\n",
    "\n",
    "quartiles = sort_rami_tumor_vol.quantile([.25,.5,.75])\n",
    "lowerq = quartiles[0.25]\n",
    "upperq = quartiles[0.75]\n",
    "iqr = round((upperq - lowerq),2)\n",
    "\n",
    "print(f\"Lower quartile of tumor volume is: {lowerq}\")\n",
    "print(f\"Upper quartile of tumor volume is: {upperq}\")\n",
    "print(f\"Interquartile range of tumor volume is: {iqr}\")\n",
    "print(f\"Median of of tumor volume is: {quartiles[0.5]} \")\n",
    "\n",
    "lower_bound = lowerq - (1.5*iqr)\n",
    "upper_bound = upperq + (1.5*iqr)\n",
    "print(f\"Values below {lower_bound} could be outliers\")\n",
    "print(f\"Values above {upper_bound} could be outliers\")\n",
    "\n",
    "print(\"\")\n",
    "print(\"******************************************\")\n",
    "print(\"     Ramicane Outlier Plot\")\n",
    "print(\"******************************************\")\n",
    "\n",
    "#fig2, ax2 = plt.subplots()\n",
    "#ax2.set_title('Final Tumor Volume:Ramicane Regimen')\n",
    "#ax2.set_ylabel('Final Tumor Volume (mm3)')\n",
    "plt.boxplot(sort_rami_tumor_vol, showfliers=True)\n",
    "plt.title('Final Tumor Volume:Ramicane Regimen')\n",
    "plt.ylabel('Final Tumor Volume (mm3)')\n",
    "plt.show()"
   ]
  },
  {
   "cell_type": "code",
   "execution_count": 15,
   "metadata": {},
   "outputs": [
    {
     "name": "stdout",
     "output_type": "stream",
     "text": [
      "******************************************\n",
      " Infubinol Regimen summary\n",
      "******************************************\n",
      "Lower quartile of tumor volume is: 54.04860769\n",
      "Upper quartile of tumor volume is: 65.52574285\n",
      "Interquartile range of tumor volume is: 11.477135160000003\n",
      "Median of of tumor volume is: 60.16518046 \n",
      "Values below 36.83290494999999 could be outliers\n",
      "Values above 82.74144559000001 could be outliers\n",
      "\n",
      "******************************************\n",
      "     Infubinol Outlier Plot\n",
      "******************************************\n"
     ]
    },
    {
     "data": {
      "image/png": "[encoded data removed]",
      "text/plain": [
       "<Figure size 432x288 with 1 Axes>"
      ]
     },
     "metadata": {
      "needs_background": "light"
     },
     "output_type": "display_data"
    }
   ],
   "source": [
    "#Infubinol regimen and the quartiles\n",
    "\n",
    "\n",
    "Infubinol_df = new_df[new_df['Drug Regimen']== \"Infubinol\"]\n",
    "\n",
    "sort_infu_tumor = Infubinol_df.sort_values([\"Tumor Volume (mm3)\"], ascending=True)\n",
    "sort_infu_tumor_vol = sort_infu_tumor[\"Tumor Volume (mm3)\"]\n",
    "\n",
    "print(\"******************************************\")\n",
    "print(\" Infubinol Regimen summary\")\n",
    "print(\"******************************************\")\n",
    "\n",
    "quartiles = sort_infu_tumor_vol.quantile([.25,.5,.75])\n",
    "lowerq = quartiles[.25]\n",
    "upperq = quartiles[.75]\n",
    "iqr = (upperq - lowerq)\n",
    "\n",
    "print(f\"Lower quartile of tumor volume is: {lowerq}\")\n",
    "print(f\"Upper quartile of tumor volume is: {upperq}\")\n",
    "print(f\"Interquartile range of tumor volume is: {iqr}\")\n",
    "print(f\"Median of of tumor volume is: {quartiles[0.5]} \")\n",
    "\n",
    "lower_bound = lowerq - (1.5*iqr)\n",
    "upper_bound = upperq + (1.5*iqr)\n",
    "print(f\"Values below {lower_bound} could be outliers\")\n",
    "print(f\"Values above {upper_bound} could be outliers\")\n",
    "\n",
    "print(\"\")\n",
    "print(\"******************************************\")\n",
    "print(\"     Infubinol Outlier Plot\")\n",
    "print(\"******************************************\")\n",
    "\n",
    "#fig3, ax3 = plt.subplots()\n",
    "plt.title('Final Tumor Volume:Infubinol Regimen')\n",
    "plt.ylabel('Final Tumor Volume (mm3)')\n",
    "plt.boxplot(sort_infu_tumor_vol)\n",
    "plt.show()"
   ]
  },
  {
   "cell_type": "code",
   "execution_count": 16,
   "metadata": {},
   "outputs": [
    {
     "name": "stdout",
     "output_type": "stream",
     "text": [
      "0     45.000000\n",
      "1     45.000000\n",
      "2     45.000000\n",
      "3     45.000000\n",
      "4     46.784535\n",
      "5     47.784682\n",
      "6     48.722078\n",
      "7     52.925348\n",
      "8     55.742829\n",
      "9     56.057749\n",
      "10    57.918381\n",
      "11    59.741901\n",
      "12    59.851956\n",
      "13    61.386660\n",
      "14    61.433892\n",
      "15    61.849023\n",
      "16    62.999356\n",
      "17    64.192341\n",
      "18    64.299830\n",
      "19    64.634949\n",
      "20    64.729837\n",
      "21    67.527482\n",
      "22    67.748662\n",
      "23    68.594745\n",
      "24    68.923185\n",
      "Name: Tumor Volume (mm3), dtype: float64\n",
      "******************************************\n",
      " Ceftamin Regimen summary\n",
      "******************************************\n",
      "Lower quartile of tumor volume is: 48.72207785\n",
      "Upper quartile of tumor volume is: 64.29983003\n",
      "Interquartile range of tumor volume is: 15.58\n",
      "Median of of tumor volume is: 59.85195552 \n",
      "Values below 25.352077849999997 could be outliers\n",
      "Values above 87.66983003 could be outliers\n",
      "\n",
      "******************************************\n",
      "     Ceftamin Outlier Plot\n",
      "******************************************\n"
     ]
    },
    {
     "data": {
      "image/png": "[encoded data removed]",
      "text/plain": [
       "<Figure size 432x288 with 1 Axes>"
      ]
     },
     "metadata": {
      "needs_background": "light"
     },
     "output_type": "display_data"
    }
   ],
   "source": [
    "#Ceftamin regimen and the quartiles\n",
    "\n",
    "\n",
    "Ceftamin_df = new_df[new_df['Drug Regimen'] == 'Ceftamin']\n",
    "Ceftamin_df\n",
    "\n",
    "sort_ceft_tumor = Ceftamin_df.sort_values([\"Tumor Volume (mm3)\"], ascending=True).reset_index()\n",
    "sort_ceft_tumor_vol = sort_ceft_tumor[\"Tumor Volume (mm3)\"]\n",
    "print(sort_ceft_tumor_vol)\n",
    "\n",
    "print(\"******************************************\")\n",
    "print(\" Ceftamin Regimen summary\")\n",
    "print(\"******************************************\")\n",
    "\n",
    "quartiles = sort_ceft_tumor_vol.quantile([.25,.5,.75])\n",
    "lowerq = quartiles[0.25]\n",
    "upperq = quartiles[0.75]\n",
    "iqr = round((upperq - lowerq),2)\n",
    "\n",
    "print(f\"Lower quartile of tumor volume is: {lowerq}\")\n",
    "print(f\"Upper quartile of tumor volume is: {upperq}\")\n",
    "print(f\"Interquartile range of tumor volume is: {iqr}\")\n",
    "print(f\"Median of of tumor volume is: {quartiles[0.5]} \")\n",
    "\n",
    "lower_bound = lowerq - (1.5*iqr)\n",
    "upper_bound = upperq + (1.5*iqr)\n",
    "print(f\"Values below {lower_bound} could be outliers\")\n",
    "print(f\"Values above {upper_bound} could be outliers\")\n",
    "\n",
    "print(\"\")\n",
    "print(\"******************************************\")\n",
    "print(\"     Ceftamin Outlier Plot\")\n",
    "print(\"******************************************\")\n",
    "\n",
    "#fig4, ax4 = plt.subplots()\n",
    "plt.title('Final Tumor Volume:Ceftamin Regimen')\n",
    "plt.ylabel('Final Tumor Volume (mm3)')\n",
    "plt.boxplot(sort_ceft_tumor_vol)\n",
    "plt.show()"
   ]
  },
  {
   "cell_type": "code",
   "execution_count": 17,
   "metadata": {},
   "outputs": [
    {
     "data": {
      "image/png": "[encoded data removed]",
      "text/plain": [
       "<Figure size 432x288 with 1 Axes>"
      ]
     },
     "metadata": {
      "needs_background": "light"
     },
     "output_type": "display_data"
    }
   ],
   "source": [
    "# Generate a box plot of the final tumor volume of each mouse across four regimens of interest\n",
    "\n",
    "\n",
    "#data = [sort_capo_tumor_vol, sort_rami_tumor_vol, sort_infu_tumor_vol, sort_ceft_tumor_vol]\n",
    "#fig5, ax5 = plt.subplots()\n",
    "\n",
    "#bp = ax5.boxplot(data, meanline=True, showmeans=True, showcaps=True, \n",
    "           #showbox=True, showfliers=False)\n",
    "\n",
    "data=[sort_capo_tumor_vol, sort_rami_tumor_vol, sort_infu_tumor_vol, sort_ceft_tumor_vol]\n",
    "\n",
    "plt.xticks([1,2,3,4],[\"Capomulin\",\"Ramicane\",\"Infubinol\",\"Ceftamin\"])\n",
    "plt.ylabel(\"Final Tumor Volume (mm3)\")\n",
    "flierprops = dict(marker='o', markerfacecolor='r', markersize=10)\n",
    "plt.boxplot(data, showfliers=True,flierprops=flierprops)\n",
    "plt.show()\n"
   ]
  },
  {
   "cell_type": "markdown",
   "metadata": {},
   "source": [
    "## Line and Scatter Plots"
   ]
  },
  {
   "cell_type": "code",
   "execution_count": 18,
   "metadata": {},
   "outputs": [
    {
     "data": {
      "text/plain": [
       "[]"
      ]
     },
     "execution_count": 18,
     "metadata": {},
     "output_type": "execute_result"
    },
    {
     "data": {
      "image/png": "[encoded data removed]",
      "text/plain": [
       "<Figure size 1080x720 with 1 Axes>"
      ]
     },
     "metadata": {
      "needs_background": "light"
     },
     "output_type": "display_data"
    }
   ],
   "source": [
    "# Generate a line plot of time point versus tumor volume for a mouse treated with Capomulin\n",
    "data_capomulin_df = merged_data_table.loc[merged_data_table[\"Drug Regimen\"] == \"Capomulin\"].reset_index()\n",
    "#data_capomulin_df\n",
    "\n",
    "\n",
    "# Selecting data of a single mouse from the above: mouse ID# l509\n",
    "mouse_capo_df = data_capomulin_df.loc[data_capomulin_df[\"Mouse ID\"] == \"l509\"].reset_index()\n",
    "#mouse_capo_df\n",
    "\n",
    "mouse_capo_df = mouse_capo_df.loc[:, [\"Timepoint\", \"Tumor Volume (mm3)\"]]\n",
    "mouse_capo_df = mouse_capo_df.reset_index(drop=True)\n",
    "mouse_capo_df\n",
    "\n",
    "mouse_capo_df.set_index(\"Timepoint\").plot(figsize=(15, 10), linewidth=2.5, color=\"blue\", alpha = 0.6)\n",
    "plt.xlabel(\"Timepoint(days)\")\n",
    "plt.ylabel(\"Tumor Volume(mm3)\")\n",
    "plt.plot()"
   ]
  },
  {
   "cell_type": "code",
   "execution_count": 19,
   "metadata": {},
   "outputs": [
    {
     "data": {
      "text/html": [
       "<div>\n",
       "<style scoped>\n",
       "    .dataframe tbody tr th:only-of-type {\n",
       "        vertical-align: middle;\n",
       "    }\n",
       "\n",
       "    .dataframe tbody tr th {\n",
       "        vertical-align: top;\n",
       "    }\n",
       "\n",
       "    .dataframe thead th {\n",
       "        text-align: right;\n",
       "    }\n",
       "</style>\n",
       "<table border=\"1\" class=\"dataframe\">\n",
       "  <thead>\n",
       "    <tr style=\"text-align: right;\">\n",
       "      <th></th>\n",
       "      <th>Mouse ID</th>\n",
       "      <th>Weight (g)</th>\n",
       "      <th>Tumor Volume (mm3)</th>\n",
       "    </tr>\n",
       "  </thead>\n",
       "  <tbody>\n",
       "    <tr>\n",
       "      <th>0</th>\n",
       "      <td>s185</td>\n",
       "      <td>17</td>\n",
       "      <td>45.000000</td>\n",
       "    </tr>\n",
       "    <tr>\n",
       "      <th>1</th>\n",
       "      <td>s185</td>\n",
       "      <td>17</td>\n",
       "      <td>43.878496</td>\n",
       "    </tr>\n",
       "    <tr>\n",
       "      <th>2</th>\n",
       "      <td>s185</td>\n",
       "      <td>17</td>\n",
       "      <td>37.614948</td>\n",
       "    </tr>\n",
       "    <tr>\n",
       "      <th>3</th>\n",
       "      <td>s185</td>\n",
       "      <td>17</td>\n",
       "      <td>38.177232</td>\n",
       "    </tr>\n",
       "    <tr>\n",
       "      <th>4</th>\n",
       "      <td>s185</td>\n",
       "      <td>17</td>\n",
       "      <td>36.866876</td>\n",
       "    </tr>\n",
       "  </tbody>\n",
       "</table>\n",
       "</div>"
      ],
      "text/plain": [
       "  Mouse ID  Weight (g)  Tumor Volume (mm3)\n",
       "0     s185          17           45.000000\n",
       "1     s185          17           43.878496\n",
       "2     s185          17           37.614948\n",
       "3     s185          17           38.177232\n",
       "4     s185          17           36.866876"
      ]
     },
     "execution_count": 19,
     "metadata": {},
     "output_type": "execute_result"
    }
   ],
   "source": [
    "data_capomulin_df\n",
    "scatter_capo_df = data_capomulin_df.loc[:, [\"Mouse ID\", \"Weight (g)\", \"Tumor Volume (mm3)\"]]\n",
    "scatter_capo_df.head()\n",
    "\n"
   ]
  },
  {
   "cell_type": "code",
   "execution_count": 20,
   "metadata": {},
   "outputs": [
    {
     "data": {
      "text/plain": [
       "[]"
      ]
     },
     "execution_count": 20,
     "metadata": {},
     "output_type": "execute_result"
    },
    {
     "data": {
      "image/png": "[encoded data removed]",
      "text/plain": [
       "<Figure size 576x432 with 1 Axes>"
      ]
     },
     "metadata": {
      "needs_background": "light"
     },
     "output_type": "display_data"
    }
   ],
   "source": [
    "# Generate a scatter plot of mouse weight versus average tumor volume for the Capomulin regimen\n",
    "\n",
    "average_capo = pd.DataFrame(scatter_capo_df.groupby([\"Mouse ID\", \"Weight (g)\"])[\"Tumor Volume (mm3)\"].mean()).reset_index()\n",
    "\n",
    "average_capo_rename = average_capo.rename(columns={\"Tumor Volume (mm3)\": \"Average Tumor Volume\", \"Weight (g)\": \"Mouse Weight\"}).set_index('Mouse ID')\n",
    "average_capo_rename.head()\n",
    "\n",
    "average_capo_rename.plot(kind=\"scatter\", x=\"Mouse Weight\", y=\"Average Tumor Volume\",  figsize=(8,6),title=\"Mouse Weight Vs. Average Tumor Volume\")\n",
    "plt.plot()"
   ]
  },
  {
   "cell_type": "markdown",
   "metadata": {},
   "source": [
    "## Correlation and Regression"
   ]
  },
  {
   "cell_type": "code",
   "execution_count": 21,
   "metadata": {},
   "outputs": [
    {
     "name": "stdout",
     "output_type": "stream",
     "text": [
      "The correlation between mice weight and their tumor volume is 0.84\n"
     ]
    }
   ],
   "source": [
    "# Calculate the correlation coefficient and linear regression model \n",
    "# for mouse weight and average tumor volume for the Capomulin regimen\n",
    "mice_weight = average_capo_rename.iloc[:,0]\n",
    "average_tumor_volume = average_capo_rename.iloc[:,1]\n",
    "correlation = st.pearsonr(mice_weight,average_tumor_volume)\n",
    "print(f\"The correlation between mice weight and their tumor volume is {round(correlation[0],2)}\")"
   ]
  },
  {
   "cell_type": "code",
   "execution_count": 22,
   "metadata": {},
   "outputs": [
    {
     "data": {
      "text/plain": [
       "'y = 0.95x + 21.55'"
      ]
     },
     "execution_count": 22,
     "metadata": {},
     "output_type": "execute_result"
    }
   ],
   "source": [
    "#linear regression model\n",
    "\n",
    "from scipy import stats\n",
    "\n",
    "x_values = average_capo_rename['Mouse Weight']\n",
    "y_values = average_capo_rename['Average Tumor Volume']\n",
    "(slope, intercept, rvalue, pvalue, stderr) = stats.linregress(x_values, y_values)\n",
    "regression = x_values * slope + intercept\n",
    "line_eq = \"y = \" + str(round(slope,2)) + \"x + \" + str(round(intercept,2))\n",
    "line_eq"
   ]
  },
  {
   "cell_type": "code",
   "execution_count": 23,
   "metadata": {},
   "outputs": [
    {
     "data": {
      "image/png": "[encoded data removed]",
      "text/plain": [
       "<Figure size 432x288 with 1 Axes>"
      ]
     },
     "metadata": {
      "needs_background": "light"
     },
     "output_type": "display_data"
    }
   ],
   "source": [
    " # linear regression equation and line to plot\n",
    "plt.scatter(x_values,y_values)\n",
    "plt.plot(x_values,regression, color = \"green\")\n",
    "plt.annotate(line_eq, (10,20), fontsize=6)\n",
    "plt.xlabel('Mouse Weight')\n",
    "plt.ylabel('Average Tumor Volume')\n",
    "plt.show()\n"
   ]
  }
 ],
 "metadata": {
  "anaconda-cloud": {},
  "kernelspec": {
   "display_name": "Python 3",
   "language": "python",
   "name": "python3"
  },
  "language_info": {
   "codemirror_mode": {
    "name": "ipython",
    "version": 3
   },
   "file_extension": ".py",
   "mimetype": "text/x-python",
   "name": "python",
   "nbconvert_exporter": "python",
   "pygments_lexer": "ipython3",
   "version": "3.7.6"
  }
 },
 "nbformat": 4,
 "nbformat_minor": 2
}
